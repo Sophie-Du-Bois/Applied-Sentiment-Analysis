{
 "cells": [
  {
   "cell_type": "markdown",
   "id": "3ffa9510",
   "metadata": {},
   "source": [
    "***From Raw Text to Business Insights: Applied Sentiment Analysis with LLMs***\n",
    "\n",
    "**Introduction and Objectives**\n",
    "\n",
    "This notebook aims to load Amazon Reviews on the product category of Books from the \"bagadbilla/amazon-reviews-2023-trimmed\" dataset on huggingface (see https://huggingface.co/datasets/bagadbilla/amazon-reviews-2023-trimmed).\n",
    "\n",
    "That data is based on the data from https://amazon-reviews-2023.github.io/\n",
    "\n",
    "**Citation**\n",
    "\n",
    "Hou, Yupeng and Li, Jiacheng and He, Zhankui and Yan, An and Chen, Xiusi and McAuley, Julian (2024). Bridging Language and Items for Retrieval and Recommendation. arXiv preprint arXiv:2403.03952\n"
   ]
  },
  {
   "cell_type": "code",
   "execution_count": 5,
   "id": "44edd86c",
   "metadata": {},
   "outputs": [
    {
     "name": "stdout",
     "output_type": "stream",
     "text": [
      "Requirement already satisfied: datasets in c:\\users\\sophie du bois\\appdata\\roaming\\python\\python39\\site-packages (3.6.0)\n",
      "Requirement already satisfied: transformers in c:\\anaconda3\\lib\\site-packages (4.52.3)\n",
      "Collecting evaluate\n",
      "  Downloading evaluate-0.4.5-py3-none-any.whl (84 kB)\n",
      "Requirement already satisfied: scikit-learn in c:\\anaconda3\\lib\\site-packages (0.24.2)\n",
      "Requirement already satisfied: pandas in c:\\anaconda3\\lib\\site-packages (1.3.4)\n",
      "Requirement already satisfied: numpy in c:\\anaconda3\\lib\\site-packages (1.20.3)\n",
      "Requirement already satisfied: multiprocess<0.70.17 in c:\\users\\sophie du bois\\appdata\\roaming\\python\\python39\\site-packages (from datasets) (0.70.16)\n",
      "Requirement already satisfied: xxhash in c:\\users\\sophie du bois\\appdata\\roaming\\python\\python39\\site-packages (from datasets) (3.5.0)\n",
      "Requirement already satisfied: requests>=2.32.2 in c:\\users\\sophie du bois\\appdata\\roaming\\python\\python39\\site-packages (from datasets) (2.32.3)\n",
      "Requirement already satisfied: fsspec[http]<=2025.3.0,>=2023.1.0 in c:\\users\\sophie du bois\\appdata\\roaming\\python\\python39\\site-packages (from datasets) (2025.3.0)\n",
      "Requirement already satisfied: huggingface-hub>=0.24.0 in c:\\users\\sophie du bois\\appdata\\roaming\\python\\python39\\site-packages (from datasets) (0.32.2)\n",
      "Requirement already satisfied: tqdm>=4.66.3 in c:\\anaconda3\\lib\\site-packages (from datasets) (4.67.1)\n",
      "Requirement already satisfied: pyarrow>=15.0.0 in c:\\users\\sophie du bois\\appdata\\roaming\\python\\python39\\site-packages (from datasets) (20.0.0)\n",
      "Requirement already satisfied: filelock in c:\\anaconda3\\lib\\site-packages (from datasets) (3.3.1)\n",
      "Requirement already satisfied: pyyaml>=5.1 in c:\\anaconda3\\lib\\site-packages (from datasets) (6.0)\n",
      "Requirement already satisfied: packaging in c:\\anaconda3\\lib\\site-packages (from datasets) (21.0)\n",
      "Requirement already satisfied: dill<0.3.9,>=0.3.0 in c:\\users\\sophie du bois\\appdata\\roaming\\python\\python39\\site-packages (from datasets) (0.3.8)\n",
      "Requirement already satisfied: safetensors>=0.4.3 in c:\\anaconda3\\lib\\site-packages (from transformers) (0.5.3)\n",
      "Requirement already satisfied: regex!=2019.12.17 in c:\\anaconda3\\lib\\site-packages (from transformers) (2021.8.3)\n",
      "Requirement already satisfied: tokenizers<0.22,>=0.21 in c:\\anaconda3\\lib\\site-packages (from transformers) (0.21.1)\n",
      "Requirement already satisfied: joblib>=0.11 in c:\\anaconda3\\lib\\site-packages (from scikit-learn) (1.1.0)\n",
      "Requirement already satisfied: threadpoolctl>=2.0.0 in c:\\anaconda3\\lib\\site-packages (from scikit-learn) (2.2.0)\n",
      "Requirement already satisfied: scipy>=0.19.1 in c:\\anaconda3\\lib\\site-packages (from scikit-learn) (1.7.1)\n",
      "Requirement already satisfied: python-dateutil>=2.7.3 in c:\\anaconda3\\lib\\site-packages (from pandas) (2.8.2)\n",
      "Requirement already satisfied: pytz>=2017.3 in c:\\anaconda3\\lib\\site-packages (from pandas) (2021.3)\n",
      "Requirement already satisfied: aiohttp!=4.0.0a0,!=4.0.0a1 in c:\\users\\sophie du bois\\appdata\\roaming\\python\\python39\\site-packages (from fsspec[http]<=2025.3.0,>=2023.1.0->datasets) (3.12.2)\n",
      "Requirement already satisfied: aiohappyeyeballs>=2.5.0 in c:\\anaconda3\\lib\\site-packages (from aiohttp!=4.0.0a0,!=4.0.0a1->fsspec[http]<=2025.3.0,>=2023.1.0->datasets) (2.6.1)\n",
      "Requirement already satisfied: async-timeout<6.0,>=4.0 in c:\\anaconda3\\lib\\site-packages (from aiohttp!=4.0.0a0,!=4.0.0a1->fsspec[http]<=2025.3.0,>=2023.1.0->datasets) (5.0.1)\n",
      "Requirement already satisfied: aiosignal>=1.1.2 in c:\\anaconda3\\lib\\site-packages (from aiohttp!=4.0.0a0,!=4.0.0a1->fsspec[http]<=2025.3.0,>=2023.1.0->datasets) (1.3.2)\n",
      "Requirement already satisfied: yarl<2.0,>=1.17.0 in c:\\anaconda3\\lib\\site-packages (from aiohttp!=4.0.0a0,!=4.0.0a1->fsspec[http]<=2025.3.0,>=2023.1.0->datasets) (1.20.0)\n",
      "Requirement already satisfied: multidict<7.0,>=4.5 in c:\\anaconda3\\lib\\site-packages (from aiohttp!=4.0.0a0,!=4.0.0a1->fsspec[http]<=2025.3.0,>=2023.1.0->datasets) (6.4.4)\n",
      "Requirement already satisfied: frozenlist>=1.1.1 in c:\\anaconda3\\lib\\site-packages (from aiohttp!=4.0.0a0,!=4.0.0a1->fsspec[http]<=2025.3.0,>=2023.1.0->datasets) (1.6.0)\n",
      "Requirement already satisfied: propcache>=0.2.0 in c:\\anaconda3\\lib\\site-packages (from aiohttp!=4.0.0a0,!=4.0.0a1->fsspec[http]<=2025.3.0,>=2023.1.0->datasets) (0.3.1)\n",
      "Requirement already satisfied: attrs>=17.3.0 in c:\\anaconda3\\lib\\site-packages (from aiohttp!=4.0.0a0,!=4.0.0a1->fsspec[http]<=2025.3.0,>=2023.1.0->datasets) (21.2.0)\n",
      "Requirement already satisfied: typing-extensions>=3.7.4.3 in c:\\users\\sophie du bois\\appdata\\roaming\\python\\python39\\site-packages (from huggingface-hub>=0.24.0->datasets) (4.14.1)\n",
      "Requirement already satisfied: pyparsing>=2.0.2 in c:\\anaconda3\\lib\\site-packages (from packaging->datasets) (3.0.4)\n",
      "Requirement already satisfied: six>=1.5 in c:\\anaconda3\\lib\\site-packages (from python-dateutil>=2.7.3->pandas) (1.16.0)\n",
      "Requirement already satisfied: charset-normalizer<4,>=2 in c:\\anaconda3\\lib\\site-packages (from requests>=2.32.2->datasets) (2.0.4)\n",
      "Requirement already satisfied: urllib3<3,>=1.21.1 in c:\\anaconda3\\lib\\site-packages (from requests>=2.32.2->datasets) (1.26.7)\n",
      "Requirement already satisfied: certifi>=2017.4.17 in c:\\anaconda3\\lib\\site-packages (from requests>=2.32.2->datasets) (2021.10.8)\n",
      "Requirement already satisfied: idna<4,>=2.5 in c:\\anaconda3\\lib\\site-packages (from requests>=2.32.2->datasets) (3.2)\n",
      "Requirement already satisfied: colorama in c:\\anaconda3\\lib\\site-packages (from tqdm>=4.66.3->datasets) (0.4.4)\n",
      "Installing collected packages: evaluate\n",
      "Successfully installed evaluate-0.4.5\n"
     ]
    },
    {
     "name": "stderr",
     "output_type": "stream",
     "text": [
      "WARNING: Ignoring invalid distribution -qdm (c:\\anaconda3\\lib\\site-packages)\n",
      "WARNING: Ignoring invalid distribution -qdm (c:\\anaconda3\\lib\\site-packages)\n",
      "WARNING: Ignoring invalid distribution -qdm (c:\\anaconda3\\lib\\site-packages)\n",
      "WARNING: Ignoring invalid distribution -qdm (c:\\anaconda3\\lib\\site-packages)\n",
      "WARNING: Ignoring invalid distribution -qdm (c:\\anaconda3\\lib\\site-packages)\n",
      "WARNING: Ignoring invalid distribution -qdm (c:\\anaconda3\\lib\\site-packages)\n",
      "WARNING: Ignoring invalid distribution -qdm (c:\\anaconda3\\lib\\site-packages)\n"
     ]
    }
   ],
   "source": [
    "# Install all necessary packages\n",
    "!pip install datasets transformers evaluate scikit-learn pandas numpy datasets"
   ]
  },
  {
   "cell_type": "markdown",
   "id": "d50450ad",
   "metadata": {},
   "source": [
    "**Step 1: Load Data and Create Smaller Subset**"
   ]
  },
  {
   "cell_type": "code",
   "execution_count": 9,
   "id": "9ebc5c6d",
   "metadata": {},
   "outputs": [
    {
     "data": {
      "application/vnd.jupyter.widget-view+json": {
       "model_id": "a05b92de31054dc5abd7e35b41e35823",
       "version_major": 2,
       "version_minor": 0
      },
      "text/plain": [
       "Resolving data files:   0%|          | 0/299 [00:00<?, ?it/s]"
      ]
     },
     "metadata": {},
     "output_type": "display_data"
    },
    {
     "name": "stdout",
     "output_type": "stream",
     "text": [
      "Collected 500k reviews\n",
      "{'rating': 5.0, 'title': 'Interpreted Painting', 'text': 'I am excited about this acrylic painting book. Very instructional and easy to follow. Written well and so easy to understand. I love the pics throughout to demonstrate techniques. I ordered this book new and received a new book, price was right and I am happy with the purchase. Thanks so much. Will do business with you guys in the future. :D'}\n",
      "{'rating': 5.0, 'title': 'Five Stars', 'text': 'good'}\n",
      "{'rating': 5.0, 'title': 'My favorite series even at 60.', 'text': 'I first found this series of book through the coloring book of the Mouse Guard. I was able to check out each book from the library and loved them all. There is something comforting in these beautifully illustrated stories that soothed my anxiety ridden soul. I love the detail that went into each page and character, the maps, the colors, everything.<br /> At my age they are still the books I keep by the side of my bed and when I wake up during nightmares these are the books I reach for to calm me. I only wish there will be more of them.'}\n",
      "{'rating': 4.0, 'title': 'Read it', 'text': \"read it you won't be disappointed.\"}\n",
      "{'rating': 4.0, 'title': 'Decent story - wrong audio narrator', 'text': \"ane Whitefield  a 30-something part Seneca woman who is married to a surgeon. she has a unique gift and has helped about 100 people terrified people safely escape their former lives often when it is a life or death situation. After taking a break from her work for a bit, she is asked by a friend to help a young woman named Sara who testified against he badass boyfriend in a murder trial. The former boyfriend is acquitted and he is looking for Sara and even has the help of the Russian mob who are more interested in finding Jane than finding Sara. They have an interest in finding out the real names of the people that Jane has helped start new lives over the years.<br /><br />From upstate New York, New Hampshire and even along the Appalachian Trail, Jane seems to keep just one step above her pursuers. The pace of this story is fast and the tension nail biting at times including the story's terrifying conclusion.  This is book #9 of the Jane Whitefield series but, it can clearly be read as a stand alone novel.  There is plenty of backstory, almost too much at times IMO.  I've read a few of the previous series books but not in order and,  I like Jane's character. She is a smart, strong and fearless sort of woman who is dedicated to what she does. I think new readers will find the information she provides about charging identities and staying under the radar interesting as they read.<br /><br />I purchased this audio download and although I've enjoyed Joyce Bean as a narrator previously, her voice to me sounded like a much older woman who did not fit Jane's part as a woman who was in her 30s. A decent thriller overall.<br /><br />Rating - 4/5 stars\"}\n",
      "Saved 500k reviews to amazon_books_subset_500k.json\n"
     ]
    }
   ],
   "source": [
    "# Import the necessary libraries\n",
    "from datasets import load_dataset\n",
    "import random\n",
    "import json\n",
    "\n",
    "# Load the Books reviews in streaming mode\n",
    "dataset = load_dataset(\n",
    "    \"bagadbilla/amazon-reviews-2023-trimmed\",\n",
    "    data_dir=\"Books\",\n",
    "    split=\"train\",\n",
    "    streaming=True\n",
    ")\n",
    "\n",
    "\n",
    "# Fetch a sample of the first 500.000 reviews in the data for quicker exploration and data analysis\n",
    "subset = []\n",
    "for i, example in enumerate(dataset):\n",
    "    rating = example.get(\"rating\", None)  # get rating, default to None if missing\n",
    "    \n",
    "    # Skip if rating is 0 or None/NaN\n",
    "    if rating in [0, None]:\n",
    "        continue\n",
    "    \n",
    "    subset.append(example)\n",
    "    \n",
    "    if len(subset) >= 500_000:\n",
    "        break\n",
    "        \n",
    "# Shuffle afterwards\n",
    "random.shuffle(subset)\n",
    "\n",
    "print(\"Collected 500k reviews\")\n",
    "\n",
    "# Take the first 5 reviews to inspect\n",
    "for i, example in enumerate(subset):\n",
    "    print(example)\n",
    "    if i >= 4:\n",
    "        break\n",
    "        \n",
    "\n",
    "# save subset of 500k samples as json\n",
    "with open(\"amazon_books_subset_500k.json\", \"w\", encoding=\"utf-8\") as f:\n",
    "    for item in subset:\n",
    "        f.write(json.dumps(item, ensure_ascii=False) + \"\\n\")\n",
    "\n",
    "print(\"Saved 500k reviews to amazon_books_subset_500k.json\")"
   ]
  },
  {
   "cell_type": "markdown",
   "id": "0df08b5f",
   "metadata": {},
   "source": [
    "**Step 2: Subset Data Exploration**"
   ]
  },
  {
   "cell_type": "code",
   "execution_count": 10,
   "id": "c32497a6",
   "metadata": {},
   "outputs": [
    {
     "name": "stdout",
     "output_type": "stream",
     "text": [
      "   rating                                title  \\\n",
      "0     5.0                 Interpreted Painting   \n",
      "1     5.0                           Five Stars   \n",
      "2     5.0       My favorite series even at 60.   \n",
      "3     4.0                              Read it   \n",
      "4     4.0  Decent story - wrong audio narrator   \n",
      "\n",
      "                                                text  \n",
      "0  I am excited about this acrylic painting book....  \n",
      "1                                               good  \n",
      "2  I first found this series of book through the ...  \n",
      "3                 read it you won't be disappointed.  \n",
      "4  ane Whitefield  a 30-something part Seneca wom...  \n"
     ]
    }
   ],
   "source": [
    "import pandas as pd\n",
    "import json\n",
    "\n",
    "# Load the json subset into pandas for further processing\n",
    "\n",
    "# Load JSONL file\n",
    "data = []\n",
    "with open(\"amazon_books_subset_500k.json\", \"r\", encoding=\"utf-8\") as f:\n",
    "    for line in f:\n",
    "        data.append(json.loads(line))\n",
    "\n",
    "df = pd.DataFrame(data)\n",
    "print(df.head())"
   ]
  },
  {
   "cell_type": "code",
   "execution_count": 12,
   "id": "8c386c36",
   "metadata": {},
   "outputs": [
    {
     "data": {
      "image/png": "[encoded data removed]",
      "text/plain": [
       "<Figure size 576x360 with 1 Axes>"
      ]
     },
     "metadata": {},
     "output_type": "display_data"
    }
   ],
   "source": [
    "import matplotlib.pyplot as plt\n",
    "\n",
    "# Count reviews per rating\n",
    "rating_counts = df['rating'].value_counts().sort_index()\n",
    "\n",
    "# Plot\n",
    "sns.set_style(\"whitegrid\")\n",
    "plt.figure(figsize=(8,5))\n",
    "sns.barplot(x=rating_counts.index, y=rating_counts.values, palette=\"magma\")\n",
    "plt.xlabel(\"Rating\")\n",
    "plt.ylabel(\"Number of Reviews\")\n",
    "plt.title(\"Number of Reviews per Rating\")\n",
    "plt.show()"
   ]
  },
  {
   "cell_type": "code",
   "execution_count": 13,
   "id": "a63a31a0",
   "metadata": {},
   "outputs": [
    {
     "data": {
      "image/png": "[encoded data removed]",
      "text/plain": [
       "<Figure size 576x360 with 1 Axes>"
      ]
     },
     "metadata": {},
     "output_type": "display_data"
    }
   ],
   "source": [
    "# Compute review lengths (in words)\n",
    "df['review_length'] = df['text'].apply(lambda x: len(x.split()))\n",
    "\n",
    "# Group by rating and compute mean\n",
    "avg_lengths = df.groupby('rating')['review_length'].mean().reset_index()\n",
    "\n",
    "# Plot\n",
    "plt.figure(figsize=(8,5))\n",
    "sns.barplot(x='rating', y='review_length', data=avg_lengths, palette=\"magma\")\n",
    "plt.xlabel(\"Rating\")\n",
    "plt.ylabel(\"Average Review Length (words)\")\n",
    "plt.title(\"Average Review Length per Rating\")\n",
    "plt.show()"
   ]
  },
  {
   "cell_type": "code",
   "execution_count": 14,
   "id": "885464ad",
   "metadata": {
    "scrolled": true
   },
   "outputs": [
    {
     "name": "stdout",
     "output_type": "stream",
     "text": [
      "Found 0 reviews with rating 0\n",
      "Empty DataFrame\n",
      "Columns: [rating, title, text, review_length]\n",
      "Index: []\n"
     ]
    }
   ],
   "source": []
  },
  {
   "cell_type": "markdown",
   "id": "0d2c60ca",
   "metadata": {},
   "source": [
    "**Step 3: Sentiment Analysis Methods**"
   ]
  }
 ],
 "metadata": {
  "kernelspec": {
   "display_name": "Python 3 (ipykernel)",
   "language": "python",
   "name": "python3"
  },
  "language_info": {
   "codemirror_mode": {
    "name": "ipython",
    "version": 3
   },
   "file_extension": ".py",
   "mimetype": "text/x-python",
   "name": "python",
   "nbconvert_exporter": "python",
   "pygments_lexer": "ipython3",
   "version": "3.9.7"
  }
 },
 "nbformat": 4,
 "nbformat_minor": 5
}
